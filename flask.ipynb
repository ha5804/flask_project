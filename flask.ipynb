{
 "cells": [
  {
   "cell_type": "markdown",
   "metadata": {},
   "source": [
    "# 1.회원가입 & 로그인 만들기\n",
    "\n",
    "회원가입 기능과 로그인을 하기 위해 SQL에 대해 먼저 이해하자.\n",
    "\n",
    "SQL은 데이터를 다루기 위한 표준 언어이다.\n",
    "\n",
    "사용자가 회원가입을 하면 그 데이터를 처리하기 위해 SQL을 사용해야한다.\n",
    "\n",
    "이때 우리는 flask에서 SQL을 몰라도 SQLAlchemy를 통해 DB를 사용 할 수 있게 해준다.\n",
    "\n",
    "    - from flask_sqlalchemy import SQLAlchemy 을 통해 import 해오자."
   ]
  },
  {
   "cell_type": "code",
   "execution_count": null,
   "metadata": {},
   "outputs": [],
   "source": [
    "from flask import Flask, render_template, request, redirect, session, url_for\n",
    "from flask_sqlalchemy import SQLAlchemy"
   ]
  },
  {
   "cell_type": "markdown",
   "metadata": {},
   "source": [
    "(1)Flask(\\__name__)을 통해 서버를 app으로 열자.\n",
    "\n",
    "(2)SQLAlchmey(app)을 통해 직접 연 서버를 SQL과 db로 연결하자."
   ]
  },
  {
   "cell_type": "code",
   "execution_count": null,
   "metadata": {},
   "outputs": [],
   "source": [
    "app = Flask(__name__)\n",
    "db = SQLAlchemy(app)"
   ]
  },
  {
   "cell_type": "markdown",
   "metadata": {},
   "source": []
  }
 ],
 "metadata": {
  "kernelspec": {
   "display_name": "Python 3",
   "language": "python",
   "name": "python3"
  },
  "language_info": {
   "codemirror_mode": {
    "name": "ipython",
    "version": 3
   },
   "file_extension": ".py",
   "mimetype": "text/x-python",
   "name": "python",
   "nbconvert_exporter": "python",
   "pygments_lexer": "ipython3",
   "version": "3.13.2"
  }
 },
 "nbformat": 4,
 "nbformat_minor": 2
}
