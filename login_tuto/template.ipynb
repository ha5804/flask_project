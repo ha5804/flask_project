{
 "cells": [
  {
   "cell_type": "markdown",
   "metadata": {},
   "source": [
    "# (1)탬플릿 제작하기(프론트앤드) with Jinja2\n",
    "\n",
    "홈페이지에서는 주로 로그인과 회원가입을한다. 이때 로그인이 된 상태에서는\n",
    "\n",
    "로그인을 한 회원의 이름과 정보가 뜨기때문에, 홈페이지에서 그에 맞는 정보를 전달 받아야한다.\n",
    "\n",
    "이를 위해 app.py의 home화면에서 template에 username을 전달해줘야한다.\n",
    "\n",
    "    username = session.get('username')\n",
    "\n",
    "session에서 username을 받아 전달해주자.\n",
    "\n",
    "\n"
   ]
  },
  {
   "cell_type": "code",
   "execution_count": null,
   "metadata": {},
   "outputs": [],
   "source": [
    "@app.route('/')\n",
    "def home():\n",
    "    username = session.get('username')\n",
    "    return render_template(\"home.html\", username = username)"
   ]
  },
  {
   "cell_type": "markdown",
   "metadata": {},
   "source": [
    "## (2) home_template 꾸미기\n",
    "\n",
    "    <!-- templates/home.html -->\n",
    "\n",
    "주석처리된 첫 줄은 공동 개발자들끼리 해당 탬플릿의 위치를 알려주는 역할을 한다.\n",
    "\n",
    "    <head><body>\n",
    "\n",
    "head부분에는 해당 사이트의 주제를, body부분에 내용이 들어간다.\n",
    "\n",
    "head부분에는 <!title> body부분에는 <!h1>을 기억하자.\n",
    "\n",
    "\n",
    "    {% if username %}\n",
    "    <p>환영합니다, {{ username }}님!</p>\n",
    "    <a href=\"/logout\">로그아웃</a>\n",
    "\n",
    "jinja2 문법이 들어간 부분이다.\n",
    "\n",
    "username을 전달받은 template에서 username이 존재하는지 확인하는 조건문이다.\n",
    "\n",
    "만약 username이 session(로그인 목록)에 존재한다면 회원가입창이 아닌 가벼운 인사말을 적어놓는다.\n",
    "\n",
    "<!p>는 내용을 작성하는 부분이고, <!a href>를 통해 해당 경로의 버튼을 생성한다.\n",
    "\n",
    "\n",
    "    {% else %}\n",
    "    <a href=\"/login\"><button>로그인</button></a>\n",
    "    <a href=\"/register\"><button>회원가입</button></a>\n",
    "    {% endif %}\n",
    "\n",
    "만약 else(조건이 거짓)라면, 로그인과 회원가입창을 띄우게하여 동적으로 웹페이지를 제작 할 수 있다.\n",
    "\n"
   ]
  },
  {
   "cell_type": "code",
   "execution_count": null,
   "metadata": {
    "vscode": {
     "languageId": "html"
    }
   },
   "outputs": [],
   "source": [
    "<!-- templates/home.html -->\n",
    "<!DOCTYPE html>\n",
    "<html>\n",
    "<head>\n",
    "    <title>홈페이지</title>\n",
    "</head>\n",
    "<body>\n",
    "    <h1>머신러닝 학습 사이트</h1>\n",
    "\n",
    "    {% if username %}\n",
    "    <p>환영합니다, {{ username }}님!</p>\n",
    "    <a href=\"/logout\">로그아웃</a>\n",
    "    {% else %}\n",
    "    <a href=\"/login\"><button>로그인</button></a>\n",
    "    <a href=\"/register\"><button>회원가입</button></a>\n",
    "    {% endif %}\n",
    "\n",
    "</body>\n",
    "</html>"
   ]
  }
 ],
 "metadata": {
  "language_info": {
   "name": "python"
  }
 },
 "nbformat": 4,
 "nbformat_minor": 2
}
