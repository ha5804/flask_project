{
 "cells": [
  {
   "cell_type": "markdown",
   "metadata": {},
   "source": [
    "# 경사 하강법\n",
    "\n",
    "우리는 step1에서 간단한 2차원 평면의 x, y에 대해서 정답값인 y에 가깝게 예측하는 연습을 하였다. 3차원에서는 어떻게해야할까? 3차원에서는 단순한 모델로 한번에 가중치를 찾는것은 쉽지 않을것이다. 따라서 우리는 경사 하강법, 즉 손실값이 어떤 가중치에 대해 최소가 되는 구간을 찾아 최소가 되는 지점의 가중치로 업데이트를하는것이다.\n",
    "\n",
    "gradient란 해당 방향으로의 편미분 값을 계산한것으로, 예를들어 산 정상에서 출발하여, 가장 최소거리로 산을 내려올수있는 방향을 찾아주는 수학적 이론이다. 즉 gradient의 방향으로 가중치를 업데이트한다면, 가장 빠르게 최적의 가중치를 찾고 손실값을 최소로 만들 수 있을것이다. 이는 앞으로 배울 머신러닝에서 가장 핵심적인 내용으로 반드시 익히는거이 좋다.\n",
    "\n",
    "이번에 다룰 데이터는 좀더 복잡하고 비선형적인 3차원 데이터를 가지고 이용할것이다."
   ]
  },
  {
   "cell_type": "code",
   "execution_count": 1,
   "metadata": {},
   "outputs": [],
   "source": [
    "import numpy as np\n",
    "import matplotlib.pyplot as plt\n",
    "import matplotlib.colors as colors\n",
    "from matplotlib.ticker import LinearLocator\n",
    "from matplotlib import cm \n",
    "from mpl_toolkits.mplot3d import Axes3D\n",
    "import csv"
   ]
  },
  {
   "cell_type": "code",
   "execution_count": 3,
   "metadata": {},
   "outputs": [
    {
     "name": "stdout",
     "output_type": "stream",
     "text": [
      "(400,) (400,) (400,)\n",
      "(400,) (400,) (400,)\n"
     ]
    }
   ],
   "source": [
    "class MyData:\n",
    "    def __init__(self):\n",
    "        pass\n",
    "    def get_clean_data(self):\n",
    "        data = np.genfromtxt(\"./step2_data/point_clean.csv\", delimiter = ',')\n",
    "        return data\n",
    "    def get_noisy_data(self):\n",
    "        data = np.genfromtxt(\"./step2_data/point_noisy.csv\", delimiter = ',')\n",
    "        return data\n",
    "\n",
    "data = MyData()\n",
    "point_clean = data.get_clean_data()\n",
    "point_noisy = data.get_noisy_data()\n",
    "\n",
    "x_clean = point_clean[0]\n",
    "y_clean = point_clean[1]\n",
    "z_clean = point_clean[2]\n",
    "\n",
    "x_noisy = point_noisy[0]\n",
    "y_noisy = point_noisy[1]\n",
    "z_noisy = point_noisy[2]\n",
    "\n",
    "print(x_clean.shape, y_clean.shape, z_clean.shape)\n",
    "print(x_noisy.shape, y_noisy.shape, z_noisy.shape)"
   ]
  }
 ],
 "metadata": {
  "kernelspec": {
   "display_name": "Python 3",
   "language": "python",
   "name": "python3"
  },
  "language_info": {
   "codemirror_mode": {
    "name": "ipython",
    "version": 3
   },
   "file_extension": ".py",
   "mimetype": "text/x-python",
   "name": "python",
   "nbconvert_exporter": "python",
   "pygments_lexer": "ipython3",
   "version": "3.13.2"
  }
 },
 "nbformat": 4,
 "nbformat_minor": 2
}
